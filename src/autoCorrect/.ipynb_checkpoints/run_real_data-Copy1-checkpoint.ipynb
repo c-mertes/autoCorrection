{
 "cells": [
  {
   "cell_type": "markdown",
   "metadata": {},
   "source": [
    "## Real data"
   ]
  },
  {
   "cell_type": "code",
   "execution_count": 1,
   "metadata": {},
   "outputs": [],
   "source": [
    "import pandas as pd\n",
    "import numpy as np\n",
    "import h5py"
   ]
  },
  {
   "cell_type": "code",
   "execution_count": 17,
   "metadata": {},
   "outputs": [],
   "source": [
    "path_in2=\"/data/ouga/home/ag_gagneur/matusevi/autoNORM/data/wbl_only.tsv\"\n",
    "counts_gtex_wbl_pd = pd.read_csv(path_in2, index_col=0,header=0, sep=\"\\t\")\n",
    "counts_gtex_wbl = np.transpose(np.array(counts_gtex_wbl_pd.values))"
   ]
  },
  {
   "cell_type": "code",
   "execution_count": 3,
   "metadata": {},
   "outputs": [
    {
     "name": "stderr",
     "output_type": "stream",
     "text": [
      "Using TensorFlow backend.\n"
     ]
    }
   ],
   "source": [
    "from autoCorrect import correctors"
   ]
  },
  {
   "cell_type": "code",
   "execution_count": null,
   "metadata": {},
   "outputs": [],
   "source": [
    "co =correctors.DAECorrector(counts_gtex_wbl, np.ones_like(counts_gtex_wbl))"
   ]
  },
  {
   "cell_type": "code",
   "execution_count": 19,
   "metadata": {},
   "outputs": [
    {
     "data": {
      "text/plain": [
       "0"
      ]
     },
     "execution_count": 19,
     "metadata": {},
     "output_type": "execute_result"
    }
   ],
   "source": [
    "np.sum(np.mean(counts_gtex_wbl,axis=0)==0)"
   ]
  },
  {
   "cell_type": "code",
   "execution_count": 18,
   "metadata": {},
   "outputs": [
    {
     "data": {
      "text/plain": [
       "(271, 18259)"
      ]
     },
     "execution_count": 18,
     "metadata": {},
     "output_type": "execute_result"
    }
   ],
   "source": [
    "counts_gtex_wbl.shape"
   ]
  },
  {
   "cell_type": "code",
   "execution_count": 4,
   "metadata": {},
   "outputs": [
    {
     "name": "stdout",
     "output_type": "stream",
     "text": [
      "Last loss:  7.83128521449\n",
      "Last validation loss:  8.5203119278\n"
     ]
    }
   ],
   "source": [
    "co =correctors.DAECorrector(counts_gtex_wbl, np.ones_like(counts_gtex_wbl))"
   ]
  },
  {
   "cell_type": "code",
   "execution_count": null,
   "metadata": {},
   "outputs": [],
   "source": []
  },
  {
   "cell_type": "code",
   "execution_count": 8,
   "metadata": {},
   "outputs": [
    {
     "data": {
      "text/plain": [
       "array([[  2.21866241e+02,   1.85743362e+02,   1.01053770e+04, ...,\n",
       "          9.85023047e+03,   5.38190556e+00,   4.74372578e+04],\n",
       "       [  2.97523895e+02,   7.08913651e+01,   4.87940967e+03, ...,\n",
       "          1.09737666e+04,   1.20186911e+01,   3.33794766e+04],\n",
       "       [  2.76929382e+02,   1.13092812e+02,   5.82256836e+03, ...,\n",
       "          1.95924121e+04,   5.59521532e+00,   5.22704648e+04],\n",
       "       ..., \n",
       "       [  2.46393250e+02,   6.52215500e+01,   4.75787939e+03, ...,\n",
       "          6.80952197e+03,   6.25102234e+00,   2.96955000e+04],\n",
       "       [  5.36501587e+02,   3.12589817e+01,   7.33467334e+03, ...,\n",
       "          2.65664551e+04,   8.20590115e+00,   2.31300906e+05],\n",
       "       [  3.68015289e+02,   4.93917580e+01,   4.57248584e+03, ...,\n",
       "          1.36107832e+04,   5.39488316e+00,   6.81139062e+04]], dtype=float32)"
      ]
     },
     "execution_count": 8,
     "metadata": {},
     "output_type": "execute_result"
    }
   ],
   "source": [
    "co.corrected"
   ]
  },
  {
   "cell_type": "code",
   "execution_count": null,
   "metadata": {},
   "outputs": [],
   "source": []
  }
 ],
 "metadata": {
  "kernelspec": {
   "display_name": "Python 3",
   "language": "python",
   "name": "python3"
  },
  "language_info": {
   "codemirror_mode": {
    "name": "ipython",
    "version": 3
   },
   "file_extension": ".py",
   "mimetype": "text/x-python",
   "name": "python",
   "nbconvert_exporter": "python",
   "pygments_lexer": "ipython3",
   "version": "3.6.0"
  }
 },
 "nbformat": 4,
 "nbformat_minor": 2
}
